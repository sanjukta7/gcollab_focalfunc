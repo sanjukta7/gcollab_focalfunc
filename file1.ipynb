install.packages('raster')
library(raster)
x <- raster(ncol = 5, nrow=5, xmx = 200, xmn = 0, ymx = 200, ymn = 00)
t = matrix(c(109.07,109.33,109.71,111.53,111.97,
             112.03,112.75,113.54,126.2,127.09,
             127.11,127.13,127.15,127.19,127.19,
             127.2,127.27,127.34,127.46,127.53,
             109.07,109.33,109.71,111.53,111.97
), nrow = 5)
tt = matrix(c(1), nrow = 5, ncol = 5)
values(x) <- tt
plot(x)
k <- rasterToPoints(x)
print(k)
a <-focal(x,w=matrix(1/9,nc=3,nr=3),fun = sum)
pp <- rasterToPoints(a)
print(pp)
print(pp[1])
plot(pp)

